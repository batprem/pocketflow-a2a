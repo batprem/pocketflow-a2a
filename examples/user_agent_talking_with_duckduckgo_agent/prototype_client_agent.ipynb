{
 "cells": [
  {
   "cell_type": "code",
   "execution_count": 1,
   "metadata": {},
   "outputs": [],
   "source": [
    "%load_ext autoreload\n",
    "%autoreload 2\n",
    "import nest_asyncio\n",
    "\n",
    "nest_asyncio.apply()"
   ]
  },
  {
   "cell_type": "code",
   "execution_count": 2,
   "metadata": {},
   "outputs": [
    {
     "data": {
      "text/plain": [
       "True"
      ]
     },
     "execution_count": 2,
     "metadata": {},
     "output_type": "execute_result"
    }
   ],
   "source": [
    "\n",
    "from dotenv import load_dotenv\n",
    "\n",
    "load_dotenv()"
   ]
  },
  {
   "cell_type": "code",
   "execution_count": 3,
   "metadata": {},
   "outputs": [
    {
     "ename": "ConnectError",
     "evalue": "All connection attempts failed",
     "output_type": "error",
     "traceback": [
      "\u001b[31m---------------------------------------------------------------------------\u001b[39m",
      "\u001b[31mConnectError\u001b[39m                              Traceback (most recent call last)",
      "\u001b[36mFile \u001b[39m\u001b[32m~/Documents/page_contents/a2a/PocketFlow/.venv/lib/python3.11/site-packages/httpx/_transports/default.py:72\u001b[39m, in \u001b[36mmap_httpcore_exceptions\u001b[39m\u001b[34m()\u001b[39m\n\u001b[32m     71\u001b[39m \u001b[38;5;28;01mtry\u001b[39;00m:\n\u001b[32m---> \u001b[39m\u001b[32m72\u001b[39m     \u001b[38;5;28;01myield\u001b[39;00m\n\u001b[32m     73\u001b[39m \u001b[38;5;28;01mexcept\u001b[39;00m \u001b[38;5;167;01mException\u001b[39;00m \u001b[38;5;28;01mas\u001b[39;00m exc:\n",
      "\u001b[36mFile \u001b[39m\u001b[32m~/Documents/page_contents/a2a/PocketFlow/.venv/lib/python3.11/site-packages/httpx/_transports/default.py:377\u001b[39m, in \u001b[36mAsyncHTTPTransport.handle_async_request\u001b[39m\u001b[34m(self, request)\u001b[39m\n\u001b[32m    376\u001b[39m \u001b[38;5;28;01mwith\u001b[39;00m map_httpcore_exceptions():\n\u001b[32m--> \u001b[39m\u001b[32m377\u001b[39m     resp = \u001b[38;5;28;01mawait\u001b[39;00m \u001b[38;5;28mself\u001b[39m._pool.handle_async_request(req)\n\u001b[32m    379\u001b[39m \u001b[38;5;28;01massert\u001b[39;00m \u001b[38;5;28misinstance\u001b[39m(resp.stream, typing.AsyncIterable)\n",
      "\u001b[36mFile \u001b[39m\u001b[32m~/Documents/page_contents/a2a/PocketFlow/.venv/lib/python3.11/site-packages/httpcore/_async/connection_pool.py:256\u001b[39m, in \u001b[36mAsyncConnectionPool.handle_async_request\u001b[39m\u001b[34m(self, request)\u001b[39m\n\u001b[32m    255\u001b[39m     \u001b[38;5;28;01mawait\u001b[39;00m \u001b[38;5;28mself\u001b[39m._close_connections(closing)\n\u001b[32m--> \u001b[39m\u001b[32m256\u001b[39m     \u001b[38;5;28;01mraise\u001b[39;00m exc \u001b[38;5;28;01mfrom\u001b[39;00m\u001b[38;5;250m \u001b[39m\u001b[38;5;28;01mNone\u001b[39;00m\n\u001b[32m    258\u001b[39m \u001b[38;5;66;03m# Return the response. Note that in this case we still have to manage\u001b[39;00m\n\u001b[32m    259\u001b[39m \u001b[38;5;66;03m# the point at which the response is closed.\u001b[39;00m\n",
      "\u001b[36mFile \u001b[39m\u001b[32m~/Documents/page_contents/a2a/PocketFlow/.venv/lib/python3.11/site-packages/httpcore/_async/connection_pool.py:236\u001b[39m, in \u001b[36mAsyncConnectionPool.handle_async_request\u001b[39m\u001b[34m(self, request)\u001b[39m\n\u001b[32m    234\u001b[39m \u001b[38;5;28;01mtry\u001b[39;00m:\n\u001b[32m    235\u001b[39m     \u001b[38;5;66;03m# Send the request on the assigned connection.\u001b[39;00m\n\u001b[32m--> \u001b[39m\u001b[32m236\u001b[39m     response = \u001b[38;5;28;01mawait\u001b[39;00m connection.handle_async_request(\n\u001b[32m    237\u001b[39m         pool_request.request\n\u001b[32m    238\u001b[39m     )\n\u001b[32m    239\u001b[39m \u001b[38;5;28;01mexcept\u001b[39;00m ConnectionNotAvailable:\n\u001b[32m    240\u001b[39m     \u001b[38;5;66;03m# In some cases a connection may initially be available to\u001b[39;00m\n\u001b[32m    241\u001b[39m     \u001b[38;5;66;03m# handle a request, but then become unavailable.\u001b[39;00m\n\u001b[32m    242\u001b[39m     \u001b[38;5;66;03m#\u001b[39;00m\n\u001b[32m    243\u001b[39m     \u001b[38;5;66;03m# In this case we clear the connection and try again.\u001b[39;00m\n",
      "\u001b[36mFile \u001b[39m\u001b[32m~/Documents/page_contents/a2a/PocketFlow/.venv/lib/python3.11/site-packages/httpcore/_async/connection.py:101\u001b[39m, in \u001b[36mAsyncHTTPConnection.handle_async_request\u001b[39m\u001b[34m(self, request)\u001b[39m\n\u001b[32m    100\u001b[39m     \u001b[38;5;28mself\u001b[39m._connect_failed = \u001b[38;5;28;01mTrue\u001b[39;00m\n\u001b[32m--> \u001b[39m\u001b[32m101\u001b[39m     \u001b[38;5;28;01mraise\u001b[39;00m exc\n\u001b[32m    103\u001b[39m \u001b[38;5;28;01mreturn\u001b[39;00m \u001b[38;5;28;01mawait\u001b[39;00m \u001b[38;5;28mself\u001b[39m._connection.handle_async_request(request)\n",
      "\u001b[36mFile \u001b[39m\u001b[32m~/Documents/page_contents/a2a/PocketFlow/.venv/lib/python3.11/site-packages/httpcore/_async/connection.py:78\u001b[39m, in \u001b[36mAsyncHTTPConnection.handle_async_request\u001b[39m\u001b[34m(self, request)\u001b[39m\n\u001b[32m     77\u001b[39m \u001b[38;5;28;01mif\u001b[39;00m \u001b[38;5;28mself\u001b[39m._connection \u001b[38;5;129;01mis\u001b[39;00m \u001b[38;5;28;01mNone\u001b[39;00m:\n\u001b[32m---> \u001b[39m\u001b[32m78\u001b[39m     stream = \u001b[38;5;28;01mawait\u001b[39;00m \u001b[38;5;28mself\u001b[39m._connect(request)\n\u001b[32m     80\u001b[39m     ssl_object = stream.get_extra_info(\u001b[33m\"\u001b[39m\u001b[33mssl_object\u001b[39m\u001b[33m\"\u001b[39m)\n",
      "\u001b[36mFile \u001b[39m\u001b[32m~/Documents/page_contents/a2a/PocketFlow/.venv/lib/python3.11/site-packages/httpcore/_async/connection.py:124\u001b[39m, in \u001b[36mAsyncHTTPConnection._connect\u001b[39m\u001b[34m(self, request)\u001b[39m\n\u001b[32m    123\u001b[39m \u001b[38;5;28;01masync\u001b[39;00m \u001b[38;5;28;01mwith\u001b[39;00m Trace(\u001b[33m\"\u001b[39m\u001b[33mconnect_tcp\u001b[39m\u001b[33m\"\u001b[39m, logger, request, kwargs) \u001b[38;5;28;01mas\u001b[39;00m trace:\n\u001b[32m--> \u001b[39m\u001b[32m124\u001b[39m     stream = \u001b[38;5;28;01mawait\u001b[39;00m \u001b[38;5;28mself\u001b[39m._network_backend.connect_tcp(**kwargs)\n\u001b[32m    125\u001b[39m     trace.return_value = stream\n",
      "\u001b[36mFile \u001b[39m\u001b[32m~/Documents/page_contents/a2a/PocketFlow/.venv/lib/python3.11/site-packages/httpcore/_backends/auto.py:31\u001b[39m, in \u001b[36mAutoBackend.connect_tcp\u001b[39m\u001b[34m(self, host, port, timeout, local_address, socket_options)\u001b[39m\n\u001b[32m     30\u001b[39m \u001b[38;5;28;01mawait\u001b[39;00m \u001b[38;5;28mself\u001b[39m._init_backend()\n\u001b[32m---> \u001b[39m\u001b[32m31\u001b[39m \u001b[38;5;28;01mreturn\u001b[39;00m \u001b[38;5;28;01mawait\u001b[39;00m \u001b[38;5;28mself\u001b[39m._backend.connect_tcp(\n\u001b[32m     32\u001b[39m     host,\n\u001b[32m     33\u001b[39m     port,\n\u001b[32m     34\u001b[39m     timeout=timeout,\n\u001b[32m     35\u001b[39m     local_address=local_address,\n\u001b[32m     36\u001b[39m     socket_options=socket_options,\n\u001b[32m     37\u001b[39m )\n",
      "\u001b[36mFile \u001b[39m\u001b[32m~/Documents/page_contents/a2a/PocketFlow/.venv/lib/python3.11/site-packages/httpcore/_backends/anyio.py:113\u001b[39m, in \u001b[36mAnyIOBackend.connect_tcp\u001b[39m\u001b[34m(self, host, port, timeout, local_address, socket_options)\u001b[39m\n\u001b[32m    108\u001b[39m exc_map = {\n\u001b[32m    109\u001b[39m     \u001b[38;5;167;01mTimeoutError\u001b[39;00m: ConnectTimeout,\n\u001b[32m    110\u001b[39m     \u001b[38;5;167;01mOSError\u001b[39;00m: ConnectError,\n\u001b[32m    111\u001b[39m     anyio.BrokenResourceError: ConnectError,\n\u001b[32m    112\u001b[39m }\n\u001b[32m--> \u001b[39m\u001b[32m113\u001b[39m \u001b[43m\u001b[49m\u001b[38;5;28;43;01mwith\u001b[39;49;00m\u001b[43m \u001b[49m\u001b[43mmap_exceptions\u001b[49m\u001b[43m(\u001b[49m\u001b[43mexc_map\u001b[49m\u001b[43m)\u001b[49m\u001b[43m:\u001b[49m\n\u001b[32m    114\u001b[39m \u001b[43m    \u001b[49m\u001b[38;5;28;43;01mwith\u001b[39;49;00m\u001b[43m \u001b[49m\u001b[43manyio\u001b[49m\u001b[43m.\u001b[49m\u001b[43mfail_after\u001b[49m\u001b[43m(\u001b[49m\u001b[43mtimeout\u001b[49m\u001b[43m)\u001b[49m\u001b[43m:\u001b[49m\n",
      "\u001b[36mFile \u001b[39m\u001b[32m~/.local/share/uv/python/cpython-3.11.11-macos-aarch64-none/lib/python3.11/contextlib.py:158\u001b[39m, in \u001b[36m_GeneratorContextManager.__exit__\u001b[39m\u001b[34m(self, typ, value, traceback)\u001b[39m\n\u001b[32m    157\u001b[39m \u001b[38;5;28;01mtry\u001b[39;00m:\n\u001b[32m--> \u001b[39m\u001b[32m158\u001b[39m     \u001b[38;5;28mself\u001b[39m.gen.throw(typ, value, traceback)\n\u001b[32m    159\u001b[39m \u001b[38;5;28;01mexcept\u001b[39;00m \u001b[38;5;167;01mStopIteration\u001b[39;00m \u001b[38;5;28;01mas\u001b[39;00m exc:\n\u001b[32m    160\u001b[39m     \u001b[38;5;66;03m# Suppress StopIteration *unless* it's the same exception that\u001b[39;00m\n\u001b[32m    161\u001b[39m     \u001b[38;5;66;03m# was passed to throw().  This prevents a StopIteration\u001b[39;00m\n\u001b[32m    162\u001b[39m     \u001b[38;5;66;03m# raised inside the \"with\" statement from being suppressed.\u001b[39;00m\n",
      "\u001b[36mFile \u001b[39m\u001b[32m~/Documents/page_contents/a2a/PocketFlow/.venv/lib/python3.11/site-packages/httpcore/_exceptions.py:14\u001b[39m, in \u001b[36mmap_exceptions\u001b[39m\u001b[34m(map)\u001b[39m\n\u001b[32m     13\u001b[39m     \u001b[38;5;28;01mif\u001b[39;00m \u001b[38;5;28misinstance\u001b[39m(exc, from_exc):\n\u001b[32m---> \u001b[39m\u001b[32m14\u001b[39m         \u001b[38;5;28;01mraise\u001b[39;00m to_exc(exc) \u001b[38;5;28;01mfrom\u001b[39;00m\u001b[38;5;250m \u001b[39m\u001b[34;01mexc\u001b[39;00m\n\u001b[32m     15\u001b[39m \u001b[38;5;28;01mraise\u001b[39;00m\n",
      "\u001b[31mConnectError\u001b[39m: All connection attempts failed",
      "\nThe above exception was the direct cause of the following exception:\n",
      "\u001b[31mConnectError\u001b[39m                              Traceback (most recent call last)",
      "\u001b[36mCell\u001b[39m\u001b[36m \u001b[39m\u001b[32mIn[3]\u001b[39m\u001b[32m, line 12\u001b[39m\n\u001b[32m      2\u001b[39m \u001b[38;5;28;01mfrom\u001b[39;00m\u001b[38;5;250m \u001b[39m\u001b[34;01mpocketflow_a2a\u001b[39;00m\u001b[34;01m.\u001b[39;00m\u001b[34;01ma2a_common\u001b[39;00m\u001b[34;01m.\u001b[39;00m\u001b[34;01mtypes\u001b[39;00m\u001b[38;5;250m \u001b[39m\u001b[38;5;28;01mimport\u001b[39;00m (\n\u001b[32m      3\u001b[39m     AgentCard,\n\u001b[32m      4\u001b[39m     A2AClientJSONError,\n\u001b[32m      5\u001b[39m     A2AClientHTTPError,\n\u001b[32m      6\u001b[39m )\n\u001b[32m      9\u001b[39m client = A2AClient(url=\u001b[33m\"\u001b[39m\u001b[33mhttp://localhost:10003\u001b[39m\u001b[33m\"\u001b[39m)\n\u001b[32m---> \u001b[39m\u001b[32m12\u001b[39m agent_card = \u001b[38;5;28;01mawait\u001b[39;00m client.get_agent_card()\n",
      "\u001b[36mFile \u001b[39m\u001b[32m~/Documents/page_contents/a2a/PocketFlow/src/pocketflow_a2a/a2a_common/client/client.py:75\u001b[39m, in \u001b[36mA2AClient.get_agent_card\u001b[39m\u001b[34m(self, agent_card_endpoint)\u001b[39m\n\u001b[32m     72\u001b[39m \u001b[38;5;28;01masync\u001b[39;00m \u001b[38;5;28;01mwith\u001b[39;00m httpx.AsyncClient() \u001b[38;5;28;01mas\u001b[39;00m client:\n\u001b[32m     73\u001b[39m     \u001b[38;5;28;01mtry\u001b[39;00m:\n\u001b[32m     74\u001b[39m         \u001b[38;5;66;03m# Image generation could take time, adding timeout\u001b[39;00m\n\u001b[32m---> \u001b[39m\u001b[32m75\u001b[39m         response = \u001b[38;5;28;01mawait\u001b[39;00m client.get(\n\u001b[32m     76\u001b[39m             \u001b[33mf\u001b[39m\u001b[33m\"\u001b[39m\u001b[38;5;132;01m{\u001b[39;00m\u001b[38;5;28mself\u001b[39m.url\u001b[38;5;132;01m}\u001b[39;00m\u001b[33m/\u001b[39m\u001b[38;5;132;01m{\u001b[39;00magent_card_endpoint\u001b[38;5;132;01m}\u001b[39;00m\u001b[33m\"\u001b[39m, timeout=\u001b[32m30\u001b[39m\n\u001b[32m     77\u001b[39m         )\n\u001b[32m     78\u001b[39m         response.raise_for_status()\n\u001b[32m     79\u001b[39m         \u001b[38;5;28;01mreturn\u001b[39;00m AgentCard(**response.json())\n",
      "\u001b[36mFile \u001b[39m\u001b[32m~/Documents/page_contents/a2a/PocketFlow/.venv/lib/python3.11/site-packages/httpx/_client.py:1814\u001b[39m, in \u001b[36mAsyncClient.get\u001b[39m\u001b[34m(self, url, params, headers, cookies, auth, follow_redirects, timeout, extensions)\u001b[39m\n\u001b[32m   1797\u001b[39m \u001b[38;5;28;01masync\u001b[39;00m \u001b[38;5;28;01mdef\u001b[39;00m\u001b[38;5;250m \u001b[39m\u001b[34mget\u001b[39m(\n\u001b[32m   1798\u001b[39m     \u001b[38;5;28mself\u001b[39m,\n\u001b[32m   1799\u001b[39m     url: URL | \u001b[38;5;28mstr\u001b[39m,\n\u001b[32m   (...)\u001b[39m\u001b[32m   1807\u001b[39m     extensions: RequestExtensions | \u001b[38;5;28;01mNone\u001b[39;00m = \u001b[38;5;28;01mNone\u001b[39;00m,\n\u001b[32m   1808\u001b[39m ) -> Response:\n\u001b[32m   1809\u001b[39m \u001b[38;5;250m    \u001b[39m\u001b[33;03m\"\"\"\u001b[39;00m\n\u001b[32m   1810\u001b[39m \u001b[33;03m    Send a `GET` request.\u001b[39;00m\n\u001b[32m   1811\u001b[39m \n\u001b[32m   1812\u001b[39m \u001b[33;03m    **Parameters**: See `httpx.request`.\u001b[39;00m\n\u001b[32m   1813\u001b[39m \u001b[33;03m    \"\"\"\u001b[39;00m\n\u001b[32m-> \u001b[39m\u001b[32m1814\u001b[39m     \u001b[38;5;28;01mreturn\u001b[39;00m \u001b[38;5;28;01mawait\u001b[39;00m \u001b[38;5;28mself\u001b[39m.request(\n\u001b[32m   1815\u001b[39m         \u001b[33m\"\u001b[39m\u001b[33mGET\u001b[39m\u001b[33m\"\u001b[39m,\n\u001b[32m   1816\u001b[39m         url,\n\u001b[32m   1817\u001b[39m         params=params,\n\u001b[32m   1818\u001b[39m         headers=headers,\n\u001b[32m   1819\u001b[39m         cookies=cookies,\n\u001b[32m   1820\u001b[39m         auth=auth,\n\u001b[32m   1821\u001b[39m         follow_redirects=follow_redirects,\n\u001b[32m   1822\u001b[39m         timeout=timeout,\n\u001b[32m   1823\u001b[39m         extensions=extensions,\n\u001b[32m   1824\u001b[39m     )\n",
      "\u001b[36mFile \u001b[39m\u001b[32m~/Documents/page_contents/a2a/PocketFlow/.venv/lib/python3.11/site-packages/httpx/_client.py:1585\u001b[39m, in \u001b[36mAsyncClient.request\u001b[39m\u001b[34m(self, method, url, content, data, files, json, params, headers, cookies, auth, follow_redirects, timeout, extensions)\u001b[39m\n\u001b[32m   1570\u001b[39m     warnings.warn(message, \u001b[38;5;167;01mDeprecationWarning\u001b[39;00m)\n\u001b[32m   1572\u001b[39m request = \u001b[38;5;28mself\u001b[39m.build_request(\n\u001b[32m   1573\u001b[39m     method=method,\n\u001b[32m   1574\u001b[39m     url=url,\n\u001b[32m   (...)\u001b[39m\u001b[32m   1583\u001b[39m     extensions=extensions,\n\u001b[32m   1584\u001b[39m )\n\u001b[32m-> \u001b[39m\u001b[32m1585\u001b[39m \u001b[38;5;28;01mreturn\u001b[39;00m \u001b[38;5;28;01mawait\u001b[39;00m \u001b[38;5;28mself\u001b[39m.send(request, auth=auth, follow_redirects=follow_redirects)\n",
      "\u001b[36mFile \u001b[39m\u001b[32m~/Documents/page_contents/a2a/PocketFlow/.venv/lib/python3.11/site-packages/httpx/_client.py:1674\u001b[39m, in \u001b[36mAsyncClient.send\u001b[39m\u001b[34m(self, request, stream, auth, follow_redirects)\u001b[39m\n\u001b[32m   1670\u001b[39m \u001b[38;5;28mself\u001b[39m._set_timeout(request)\n\u001b[32m   1672\u001b[39m auth = \u001b[38;5;28mself\u001b[39m._build_request_auth(request, auth)\n\u001b[32m-> \u001b[39m\u001b[32m1674\u001b[39m response = \u001b[38;5;28;01mawait\u001b[39;00m \u001b[38;5;28mself\u001b[39m._send_handling_auth(\n\u001b[32m   1675\u001b[39m     request,\n\u001b[32m   1676\u001b[39m     auth=auth,\n\u001b[32m   1677\u001b[39m     follow_redirects=follow_redirects,\n\u001b[32m   1678\u001b[39m     history=[],\n\u001b[32m   1679\u001b[39m )\n\u001b[32m   1680\u001b[39m \u001b[38;5;28;01mtry\u001b[39;00m:\n\u001b[32m   1681\u001b[39m     \u001b[38;5;28;01mif\u001b[39;00m \u001b[38;5;129;01mnot\u001b[39;00m stream:\n",
      "\u001b[36mFile \u001b[39m\u001b[32m~/Documents/page_contents/a2a/PocketFlow/.venv/lib/python3.11/site-packages/httpx/_client.py:1702\u001b[39m, in \u001b[36mAsyncClient._send_handling_auth\u001b[39m\u001b[34m(self, request, auth, follow_redirects, history)\u001b[39m\n\u001b[32m   1699\u001b[39m request = \u001b[38;5;28;01mawait\u001b[39;00m auth_flow.\u001b[34m__anext__\u001b[39m()\n\u001b[32m   1701\u001b[39m \u001b[38;5;28;01mwhile\u001b[39;00m \u001b[38;5;28;01mTrue\u001b[39;00m:\n\u001b[32m-> \u001b[39m\u001b[32m1702\u001b[39m     response = \u001b[38;5;28;01mawait\u001b[39;00m \u001b[38;5;28mself\u001b[39m._send_handling_redirects(\n\u001b[32m   1703\u001b[39m         request,\n\u001b[32m   1704\u001b[39m         follow_redirects=follow_redirects,\n\u001b[32m   1705\u001b[39m         history=history,\n\u001b[32m   1706\u001b[39m     )\n\u001b[32m   1707\u001b[39m     \u001b[38;5;28;01mtry\u001b[39;00m:\n\u001b[32m   1708\u001b[39m         \u001b[38;5;28;01mtry\u001b[39;00m:\n",
      "\u001b[36mFile \u001b[39m\u001b[32m~/Documents/page_contents/a2a/PocketFlow/.venv/lib/python3.11/site-packages/httpx/_client.py:1739\u001b[39m, in \u001b[36mAsyncClient._send_handling_redirects\u001b[39m\u001b[34m(self, request, follow_redirects, history)\u001b[39m\n\u001b[32m   1736\u001b[39m \u001b[38;5;28;01mfor\u001b[39;00m hook \u001b[38;5;129;01min\u001b[39;00m \u001b[38;5;28mself\u001b[39m._event_hooks[\u001b[33m\"\u001b[39m\u001b[33mrequest\u001b[39m\u001b[33m\"\u001b[39m]:\n\u001b[32m   1737\u001b[39m     \u001b[38;5;28;01mawait\u001b[39;00m hook(request)\n\u001b[32m-> \u001b[39m\u001b[32m1739\u001b[39m response = \u001b[38;5;28;01mawait\u001b[39;00m \u001b[38;5;28mself\u001b[39m._send_single_request(request)\n\u001b[32m   1740\u001b[39m \u001b[38;5;28;01mtry\u001b[39;00m:\n\u001b[32m   1741\u001b[39m     \u001b[38;5;28;01mfor\u001b[39;00m hook \u001b[38;5;129;01min\u001b[39;00m \u001b[38;5;28mself\u001b[39m._event_hooks[\u001b[33m\"\u001b[39m\u001b[33mresponse\u001b[39m\u001b[33m\"\u001b[39m]:\n",
      "\u001b[36mFile \u001b[39m\u001b[32m~/Documents/page_contents/a2a/PocketFlow/.venv/lib/python3.11/site-packages/httpx/_client.py:1776\u001b[39m, in \u001b[36mAsyncClient._send_single_request\u001b[39m\u001b[34m(self, request)\u001b[39m\n\u001b[32m   1771\u001b[39m     \u001b[38;5;28;01mraise\u001b[39;00m \u001b[38;5;167;01mRuntimeError\u001b[39;00m(\n\u001b[32m   1772\u001b[39m         \u001b[33m\"\u001b[39m\u001b[33mAttempted to send an sync request with an AsyncClient instance.\u001b[39m\u001b[33m\"\u001b[39m\n\u001b[32m   1773\u001b[39m     )\n\u001b[32m   1775\u001b[39m \u001b[38;5;28;01mwith\u001b[39;00m request_context(request=request):\n\u001b[32m-> \u001b[39m\u001b[32m1776\u001b[39m     response = \u001b[38;5;28;01mawait\u001b[39;00m transport.handle_async_request(request)\n\u001b[32m   1778\u001b[39m \u001b[38;5;28;01massert\u001b[39;00m \u001b[38;5;28misinstance\u001b[39m(response.stream, AsyncByteStream)\n\u001b[32m   1779\u001b[39m response.request = request\n",
      "\u001b[36mFile \u001b[39m\u001b[32m~/Documents/page_contents/a2a/PocketFlow/.venv/lib/python3.11/site-packages/httpx/_transports/default.py:376\u001b[39m, in \u001b[36mAsyncHTTPTransport.handle_async_request\u001b[39m\u001b[34m(self, request)\u001b[39m\n\u001b[32m    362\u001b[39m \u001b[38;5;28;01massert\u001b[39;00m \u001b[38;5;28misinstance\u001b[39m(request.stream, AsyncByteStream)\n\u001b[32m    364\u001b[39m req = httpcore.Request(\n\u001b[32m    365\u001b[39m     method=request.method,\n\u001b[32m    366\u001b[39m     url=httpcore.URL(\n\u001b[32m   (...)\u001b[39m\u001b[32m    374\u001b[39m     extensions=request.extensions,\n\u001b[32m    375\u001b[39m )\n\u001b[32m--> \u001b[39m\u001b[32m376\u001b[39m \u001b[43m\u001b[49m\u001b[38;5;28;43;01mwith\u001b[39;49;00m\u001b[43m \u001b[49m\u001b[43mmap_httpcore_exceptions\u001b[49m\u001b[43m(\u001b[49m\u001b[43m)\u001b[49m\u001b[43m:\u001b[49m\n\u001b[32m    377\u001b[39m \u001b[43m    \u001b[49m\u001b[43mresp\u001b[49m\u001b[43m \u001b[49m\u001b[43m=\u001b[49m\u001b[43m \u001b[49m\u001b[38;5;28;43;01mawait\u001b[39;49;00m\u001b[43m \u001b[49m\u001b[38;5;28;43mself\u001b[39;49m\u001b[43m.\u001b[49m\u001b[43m_pool\u001b[49m\u001b[43m.\u001b[49m\u001b[43mhandle_async_request\u001b[49m\u001b[43m(\u001b[49m\u001b[43mreq\u001b[49m\u001b[43m)\u001b[49m\n\u001b[32m    379\u001b[39m \u001b[38;5;28;01massert\u001b[39;00m \u001b[38;5;28misinstance\u001b[39m(resp.stream, typing.AsyncIterable)\n",
      "\u001b[36mFile \u001b[39m\u001b[32m~/.local/share/uv/python/cpython-3.11.11-macos-aarch64-none/lib/python3.11/contextlib.py:158\u001b[39m, in \u001b[36m_GeneratorContextManager.__exit__\u001b[39m\u001b[34m(self, typ, value, traceback)\u001b[39m\n\u001b[32m    156\u001b[39m     value = typ()\n\u001b[32m    157\u001b[39m \u001b[38;5;28;01mtry\u001b[39;00m:\n\u001b[32m--> \u001b[39m\u001b[32m158\u001b[39m     \u001b[38;5;28mself\u001b[39m.gen.throw(typ, value, traceback)\n\u001b[32m    159\u001b[39m \u001b[38;5;28;01mexcept\u001b[39;00m \u001b[38;5;167;01mStopIteration\u001b[39;00m \u001b[38;5;28;01mas\u001b[39;00m exc:\n\u001b[32m    160\u001b[39m     \u001b[38;5;66;03m# Suppress StopIteration *unless* it's the same exception that\u001b[39;00m\n\u001b[32m    161\u001b[39m     \u001b[38;5;66;03m# was passed to throw().  This prevents a StopIteration\u001b[39;00m\n\u001b[32m    162\u001b[39m     \u001b[38;5;66;03m# raised inside the \"with\" statement from being suppressed.\u001b[39;00m\n\u001b[32m    163\u001b[39m     \u001b[38;5;28;01mreturn\u001b[39;00m exc \u001b[38;5;129;01mis\u001b[39;00m \u001b[38;5;129;01mnot\u001b[39;00m value\n",
      "\u001b[36mFile \u001b[39m\u001b[32m~/Documents/page_contents/a2a/PocketFlow/.venv/lib/python3.11/site-packages/httpx/_transports/default.py:89\u001b[39m, in \u001b[36mmap_httpcore_exceptions\u001b[39m\u001b[34m()\u001b[39m\n\u001b[32m     86\u001b[39m     \u001b[38;5;28;01mraise\u001b[39;00m\n\u001b[32m     88\u001b[39m message = \u001b[38;5;28mstr\u001b[39m(exc)\n\u001b[32m---> \u001b[39m\u001b[32m89\u001b[39m \u001b[38;5;28;01mraise\u001b[39;00m mapped_exc(message) \u001b[38;5;28;01mfrom\u001b[39;00m\u001b[38;5;250m \u001b[39m\u001b[34;01mexc\u001b[39;00m\n",
      "\u001b[31mConnectError\u001b[39m: All connection attempts failed"
     ]
    }
   ],
   "source": [
    "from pocketflow_a2a.a2a_common.client import A2AClient\n",
    "from pocketflow_a2a.a2a_common.types import (\n",
    "    AgentCard,\n",
    "    A2AClientJSONError,\n",
    "    A2AClientHTTPError,\n",
    ")\n",
    "\n",
    "\n",
    "client = A2AClient(url=\"http://localhost:10003\")\n",
    "\n",
    "\n",
    "agent_card = await client.get_agent_card()"
   ]
  },
  {
   "cell_type": "code",
   "execution_count": 4,
   "metadata": {},
   "outputs": [
    {
     "name": "stdout",
     "output_type": "stream",
     "text": [
      "PocketFlow Research Agent (A2A Wrapped)\n",
      "Web Research and Answering\n",
      "Answers questions using web search results when necessary.\n",
      "['text', 'text/plain']\n",
      "['text', 'text/plain']\n",
      "['Who won the Nobel Prize in Physics 2024?', 'What is quantum computing?', 'Summarize the latest news about AI.']\n",
      "['research', 'qa', 'web search']\n",
      "web_research_qa\n",
      "Web Research and Answering\n"
     ]
    }
   ],
   "source": [
    "print(agent_card.name)\n",
    "for skill in agent_card.skills:\n",
    "    print(skill.name)\n",
    "    print(skill.description)\n",
    "    print(skill.inputModes)\n",
    "    print(skill.outputModes)\n",
    "    print(skill.examples)\n",
    "    print(skill.tags)\n",
    "    print(skill.id)\n",
    "    print(skill.name)"
   ]
  },
  {
   "cell_type": "markdown",
   "metadata": {},
   "source": [
    "# Get available agents"
   ]
  },
  {
   "cell_type": "code",
   "execution_count": 25,
   "metadata": {},
   "outputs": [
    {
     "name": "stdout",
     "output_type": "stream",
     "text": [
      "These are agents who can you ask for consult:\n",
      "\n",
      "Available agents:\n",
      "\n",
      "Agent number 1:\n",
      "Name: PocketFlow Research Agent (A2A Wrapped)\n",
      "Description: A simple research agent based on PocketFlow, made accessible via A2A.\n",
      "Skills: \n",
      "    - name: Web Research and Answering\n",
      "    - description: Answers questions using web search results when necessary.\n",
      "    - example: ['Who won the Nobel Prize in Physics 2024?', 'What is quantum computing?', 'Summarize the latest news about AI.']\n",
      "\n",
      "--------------------------------\n",
      "\n",
      "\n",
      "You may select one of them to help answer by return the array of selected agent number or if you find no one could help you, you may return empty array.\n",
      "Your answer will be passed directly to JSON so You must return your selected agent(s) with the following JSON fiedls\n",
      "[\n",
      "    {\n",
      "        \"selected_agent: <int, the number of agent that you choose to answer this question>,\n",
      "        \"question_to_answer\": <str, the question to ask the agent>\n",
      "    },\n",
      "    {/*...other agent you can select as much as you want*/}\n",
      "]\n",
      "\n",
      "Remember: Your answer will be passed directly to JSON parsing function, therefore return only the array of json and not include PREFIX, SUFFIX or Prologue\n"
     ]
    }
   ],
   "source": [
    "from pocketflow import AsyncFlow, AsyncNode\n",
    "from typing import TypedDict\n",
    "import asyncio\n",
    "from pocketflow_a2a.a2a_client.prompt_templates import available_agents_template\n",
    "\n",
    "\n",
    "class Shared(TypedDict):\n",
    "    a2a_clients: list[A2AClient]\n",
    "    agents_list: list[AgentCard]\n",
    "    available_agents_prompt: str\n",
    "\n",
    "\n",
    "class GetAvailableAgents(AsyncNode):\n",
    "    async def prep_async(self, shared):\n",
    "        a2a_clients = shared[\"a2a_clients\"]\n",
    "        return a2a_clients\n",
    "\n",
    "    async def exec_async(self, a2a_clients: list[A2AClient]):\n",
    "        return await asyncio.gather(\n",
    "            *[a2a_client.get_agent_card() for a2a_client in a2a_clients]\n",
    "        )\n",
    "\n",
    "    async def exec_fallback_async(self, prep_res, exc):\n",
    "        raise exc\n",
    "\n",
    "    async def post_async(\n",
    "        self,\n",
    "        shared,\n",
    "        prep_res,\n",
    "        exec_res: list[AgentCard | A2AClientJSONError | A2AClientHTTPError],\n",
    "    ) -> str:\n",
    "        agents_list = [res for res in exec_res if isinstance(res, AgentCard)]\n",
    "        if not agents_list:\n",
    "            shared[\"agents_list\"] = []\n",
    "            shared[\"available_agents_prompt\"] = None\n",
    "        else:\n",
    "            shared[\"agents_list\"] = agents_list\n",
    "            shared[\"available_agents_prompt\"] = available_agents_template.render(\n",
    "                agents=[agent.model_dump() for agent in agents_list]\n",
    "            )\n",
    "        return \"agent_selector\"\n",
    "\n",
    "\n",
    "get_available_agents_node = GetAvailableAgents()\n",
    "\n",
    "flow = AsyncFlow(start=get_available_agents_node)\n",
    "shared = {\"a2a_clients\": [A2AClient(url=\"http://localhost:10003\")]}\n",
    "await flow.run_async(shared)\n",
    "print(shared[\"available_agents_prompt\"])"
   ]
  },
  {
   "cell_type": "code",
   "execution_count": 27,
   "metadata": {},
   "outputs": [
    {
     "name": "stdout",
     "output_type": "stream",
     "text": [
      "You are a user's question screener. Your duty is to select the agents that proper to answer user's question.\n",
      "\n",
      "The question: How is Thai stock market this week?\n",
      "\n",
      "These are agents who can you ask for consult:\n",
      "\n",
      "Available agents:\n",
      "\n",
      "Agent number 1:\n",
      "Name: PocketFlow Research Agent (A2A Wrapped)\n",
      "Description: A simple research agent based on PocketFlow, made accessible via A2A.\n",
      "Skills: \n",
      "    - name: Web Research and Answering\n",
      "    - description: Answers questions using web search results when necessary.\n",
      "    - example: ['Who won the Nobel Prize in Physics 2024?', 'What is quantum computing?', 'Summarize the latest news about AI.']\n",
      "\n",
      "--------------------------------\n",
      "\n",
      "\n",
      "You may select one of them to help answer by return the array of selected agent number or if you find no one could help you, you may return empty array.\n",
      "Your answer will be passed directly to JSON so You must return your selected agent(s) with the following JSON fiedls\n",
      "[\n",
      "    {\n",
      "        \"selected_agent: <int, the number of agent that you choose to answer this question>,\n",
      "        \"question_to_answer\": <str, the question to ask the agent>\n",
      "    },\n",
      "    {/*...other agent you can select as much as you want*/}\n",
      "]\n",
      "\n",
      "Remember: Your answer will be passed directly to JSON parsing function, therefore return only the array of json and not include PREFIX, SUFFIX or Prologue\n",
      "```json\n",
      "[\n",
      "  {\n",
      "    \"selected_agent\": 1,\n",
      "    \"question_to_answer\": \"How is the Thai stock market performing this week?  Please provide a summary of its performance.\"\n",
      "  }\n",
      "]\n",
      "```\n",
      "\n",
      "[{'selected_agent': 1, 'question_to_answer': 'How is the Thai stock market performing this week?  Please provide a summary of its performance.'}]\n"
     ]
    }
   ],
   "source": [
    "from pocketflow_a2a.a2a_common.utils.toolbox import call_llm\n",
    "from exam.prompt_templates import agent_selector_template\n",
    "\n",
    "import json\n",
    "import re\n",
    "\n",
    "def parse_json_string(s: str) -> dict:\n",
    "    \"\"\"\n",
    "    Parse a string containing JSON (optionally wrapped in markdown code block) into a Python dictionary.\n",
    "    \"\"\"\n",
    "    # Remove leading/trailing whitespace\n",
    "    s = s.strip()\n",
    "    # Remove markdown code block if present\n",
    "    # Handles ```json ... ``` or ``` ... ```\n",
    "    code_block_pattern = r\"^```(?:json)?\\s*([\\s\\S]*?)\\s*```$\"\n",
    "    match = re.match(code_block_pattern, s, re.IGNORECASE)\n",
    "    if match:\n",
    "        s = match.group(1).strip()\n",
    "    # Now parse as JSON\n",
    "    return json.loads(s)\n",
    "\n",
    "\n",
    "class AgentSelector(AsyncNode):\n",
    "    \n",
    "    async def prep_async(self, shared):\n",
    "        return (shared[\"question\"], shared[\"available_agents_prompt\"])\n",
    "\n",
    "    async def exec_async(self, inputs):\n",
    "        question, available_agents_prompt = inputs\n",
    "        prompt = agent_selector_template.render(\n",
    "            question=question, available_agents_prompt=available_agents_prompt\n",
    "        )\n",
    "        print(prompt)\n",
    "        return call_llm(prompt)\n",
    "\n",
    "    async def post_async(self, shared, prep_res, exec_res):\n",
    "        print(exec_res)\n",
    "        shared[\"selected_agent\"] = parse_json_string(exec_res)\n",
    "\n",
    "\n",
    "get_available_agents_node = GetAvailableAgents()\n",
    "agent_selector_node = AgentSelector()\n",
    "\n",
    "get_available_agents_node - \"agent_selector\" >> agent_selector_node\n",
    "\n",
    "flow = AsyncFlow(start=get_available_agents_node)\n",
    "\n",
    "shared = {\n",
    "    \"question\": \"How is Thai stock market this week?\",\n",
    "    \"a2a_clients\": [A2AClient(url=\"http://localhost:10003\")]\n",
    "}\n",
    "await flow.run_async(shared)\n",
    "\n",
    "print(shared[\"selected_agent\"])\n"
   ]
  },
  {
   "cell_type": "code",
   "execution_count": 34,
   "metadata": {},
   "outputs": [
    {
     "name": "stdout",
     "output_type": "stream",
     "text": [
      "0\n"
     ]
    }
   ],
   "source": [
    "print(shared[\"selected_agent\"][0][\"selected_agent\"] - 1)"
   ]
  },
  {
   "cell_type": "code",
   "execution_count": 35,
   "metadata": {},
   "outputs": [
    {
     "data": {
      "text/plain": [
       "AgentCard(name='PocketFlow Research Agent (A2A Wrapped)', description='A simple research agent based on PocketFlow, made accessible via A2A.', url='http://localhost:10003/', provider=None, version='0.1.0-a2a', documentationUrl=None, capabilities=AgentCapabilities(streaming=False, pushNotifications=False, stateTransitionHistory=False), authentication=None, defaultInputModes=['text', 'text/plain'], defaultOutputModes=['text', 'text/plain'], skills=[AgentSkill(id='web_research_qa', name='Web Research and Answering', description='Answers questions using web search results when necessary.', tags=['research', 'qa', 'web search'], examples=['Who won the Nobel Prize in Physics 2024?', 'What is quantum computing?', 'Summarize the latest news about AI.'], inputModes=['text', 'text/plain'], outputModes=['text', 'text/plain'])])"
      ]
     },
     "execution_count": 35,
     "metadata": {},
     "output_type": "execute_result"
    }
   ],
   "source": [
    "shared[\"agents_list\"][shared[\"selected_agent\"][0][\"selected_agent\"] - 1]"
   ]
  },
  {
   "cell_type": "code",
   "execution_count": null,
   "metadata": {},
   "outputs": [
    {
     "data": {
      "text/plain": [
       "'```json\\n[]\\n```\\n'"
      ]
     },
     "execution_count": 21,
     "metadata": {},
     "output_type": "execute_result"
    }
   ],
   "source": [
    "import json"
   ]
  },
  {
   "cell_type": "code",
   "execution_count": null,
   "metadata": {},
   "outputs": [
    {
     "name": "stdout",
     "output_type": "stream",
     "text": [
      "You are a user's question screener. Your duty is to select the agents that proper to answer user's question.\n",
      "\n",
      "The question: How is Thai stock market this week?\n",
      "\n",
      "These are agents who can you ask for consult:\n",
      "\n",
      "Available agents:\n",
      "\n",
      "Agent number 1:\n",
      "Name: PocketFlow Research Agent (A2A Wrapped)\n",
      "Description: A simple research agent based on PocketFlow, made accessible via A2A.\n",
      "--------------------------------\n",
      "\n",
      "\n",
      "You may select one of them to help answer by return the array of selected agent number or if you find no one could help you, you may return empty array.\n",
      "Your answer will be passed directly to JSON so You must return your selected agent(s) with the following JSON fiedls\n",
      "[\n",
      "    {\n",
      "        \"selected_agent: <int, the number of agent that you choose to answer this question>,\n",
      "        \"question_to_answer\": <str, the question to ask the agent>\n",
      "    },\n",
      "    {/*...other agent you can select as much as you want*/}\n",
      "]\n",
      "\n",
      "Remember: Your answer will be passed directly to JSON parsing function, therefore return only the array of json and not include PREFIX, SUFFIX or Prologue\n"
     ]
    }
   ],
   "source": [
    "print(\n",
    "    agent_selector_template.render(\n",
    "        question=\"How is Thai stock market this week?\",\n",
    "        available_agents_prompt=shared[\"available_agents_prompt\"],\n",
    "    )\n",
    ")"
   ]
  },
  {
   "cell_type": "code",
   "execution_count": 11,
   "metadata": {},
   "outputs": [
    {
     "data": {
      "text/plain": [
       "'These are agents who can you ask for consult:\\n\\nAvailable agents:\\n\\nAgent number 1:\\nName: PocketFlow Research Agent (A2A Wrapped)\\nDescription: A simple research agent based on PocketFlow, made accessible via A2A.\\n--------------------------------\\n\\n\\nYou may select one of them to help answer by return the array of selected agent number or if you find no one could help you, you may return empty array.\\nYour answer will be passed directly to JSON so You must return your selected agent(s) with the following JSON fiedls\\n[\\n    {\\n        \"selected_agent: <int, the number of agent that you choose to answer this question>,\\n        \"question_to_answer\": <str, the question to ask the agent>\\n    },\\n    {/*...other agent you can select as much as you want*/}\\n]\\n\\nRemember: Your answer will be passed directly to JSON parsing function, therefore return only the array of json and not include PREFIX, SUFFIX or Prologue'"
      ]
     },
     "execution_count": 11,
     "metadata": {},
     "output_type": "execute_result"
    }
   ],
   "source": [
    "shared[\"available_agents_prompt\"]"
   ]
  },
  {
   "cell_type": "code",
   "execution_count": 35,
   "metadata": {},
   "outputs": [
    {
     "name": "stdout",
     "output_type": "stream",
     "text": [
      "\n",
      "Grocery List:\n",
      "\n",
      "- Milk (2 liters)\n",
      "\n",
      "- Eggs (12 pcs)\n",
      "\n",
      "- Bread (1 loaf)\n",
      "\n"
     ]
    }
   ],
   "source": [
    "from jinja2 import Template\n",
    "\n",
    "# Main template string\n",
    "main_template = \"\"\"\n",
    "Grocery List:\n",
    "{% for item in items %}\n",
    "- {% include 'line_template' %}\n",
    "{% endfor %}\n",
    "\"\"\"\n",
    "\n",
    "# Sub-template string\n",
    "line_template = \"{{ item.name }} ({{ item.qty }})\"\n",
    "\n",
    "# Create a Jinja2 environment and manually load sub-templates\n",
    "from jinja2 import DictLoader, Environment\n",
    "\n",
    "# Setup with in-memory templates\n",
    "env = Environment(\n",
    "    loader=DictLoader({\"main_template\": main_template, \"line_template\": line_template})\n",
    ")\n",
    "\n",
    "# Load and render\n",
    "template = env.get_template(\"main_template\")\n",
    "\n",
    "# Sample data\n",
    "items = [\n",
    "    {\"name\": \"Milk\", \"qty\": \"2 liters\"},\n",
    "    {\"name\": \"Eggs\", \"qty\": \"12 pcs\"},\n",
    "    {\"name\": \"Bread\", \"qty\": \"1 loaf\"},\n",
    "]\n",
    "\n",
    "# Render\n",
    "output = template.render(items=items)\n",
    "print(output)\n"
   ]
  }
 ],
 "metadata": {
  "kernelspec": {
   "display_name": ".venv",
   "language": "python",
   "name": "python3"
  },
  "language_info": {
   "codemirror_mode": {
    "name": "ipython",
    "version": 3
   },
   "file_extension": ".py",
   "mimetype": "text/x-python",
   "name": "python",
   "nbconvert_exporter": "python",
   "pygments_lexer": "ipython3",
   "version": "3.11.11"
  }
 },
 "nbformat": 4,
 "nbformat_minor": 2
}
