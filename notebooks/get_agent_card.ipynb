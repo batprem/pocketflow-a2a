{
 "cells": [
  {
   "cell_type": "code",
   "execution_count": 1,
   "metadata": {},
   "outputs": [],
   "source": [
    "%load_ext autoreload\n",
    "%autoreload 2\n",
    "import nest_asyncio\n",
    "\n",
    "nest_asyncio.apply()"
   ]
  },
  {
   "cell_type": "code",
   "execution_count": 2,
   "metadata": {},
   "outputs": [
    {
     "data": {
      "text/plain": [
       "True"
      ]
     },
     "execution_count": 2,
     "metadata": {},
     "output_type": "execute_result"
    }
   ],
   "source": [
    "from dotenv import load_dotenv\n",
    "\n",
    "load_dotenv(\"../.env\")"
   ]
  },
  {
   "cell_type": "code",
   "execution_count": 3,
   "metadata": {},
   "outputs": [],
   "source": [
    "from pocketflow_a2a.a2a_common.client import A2AClient\n",
    "from pocketflow_a2a.a2a_common.types import (\n",
    "    AgentCard,\n",
    "    A2AClientJSONError,\n",
    "    A2AClientHTTPError,\n",
    ")\n",
    "\n",
    "\n",
    "client = A2AClient(url=\"http://localhost:10003\")\n",
    "\n",
    "\n",
    "agent_card = await client.get_agent_card()"
   ]
  },
  {
   "cell_type": "code",
   "execution_count": 4,
   "metadata": {},
   "outputs": [
    {
     "name": "stdout",
     "output_type": "stream",
     "text": [
      "PocketFlow Research Agent (A2A Wrapped)\n",
      "Web Research and Answering\n",
      "Answers questions using web search results when necessary.\n",
      "['text', 'text/plain']\n",
      "['text', 'text/plain']\n",
      "['Who won the Nobel Prize in Physics 2024?', 'What is quantum computing?', 'Summarize the latest news about AI.']\n",
      "['research', 'qa', 'web search']\n",
      "web_research_qa\n",
      "Web Research and Answering\n"
     ]
    }
   ],
   "source": [
    "print(agent_card.name)\n",
    "for skill in agent_card.skills:\n",
    "    print(skill.name)\n",
    "    print(skill.description)\n",
    "    print(skill.inputModes)\n",
    "    print(skill.outputModes)\n",
    "    print(skill.examples)\n",
    "    print(skill.tags)\n",
    "    print(skill.id)\n",
    "    print(skill.name)"
   ]
  },
  {
   "cell_type": "markdown",
   "metadata": {},
   "source": [
    "# Get available agents"
   ]
  },
  {
   "cell_type": "code",
   "execution_count": 25,
   "metadata": {},
   "outputs": [
    {
     "name": "stdout",
     "output_type": "stream",
     "text": [
      "These are agents who can you ask for consult:\n",
      "\n",
      "Available agents:\n",
      "\n",
      "Agent number 1:\n",
      "Name: PocketFlow Research Agent (A2A Wrapped)\n",
      "Description: A simple research agent based on PocketFlow, made accessible via A2A.\n",
      "Skills: \n",
      "    - name: Web Research and Answering\n",
      "    - description: Answers questions using web search results when necessary.\n",
      "    - example: ['Who won the Nobel Prize in Physics 2024?', 'What is quantum computing?', 'Summarize the latest news about AI.']\n",
      "\n",
      "--------------------------------\n",
      "\n",
      "\n",
      "You may select one of them to help answer by return the array of selected agent number or if you find no one could help you, you may return empty array.\n",
      "Your answer will be passed directly to JSON so You must return your selected agent(s) with the following JSON fiedls\n",
      "[\n",
      "    {\n",
      "        \"selected_agent: <int, the number of agent that you choose to answer this question>,\n",
      "        \"question_to_answer\": <str, the question to ask the agent>\n",
      "    },\n",
      "    {/*...other agent you can select as much as you want*/}\n",
      "]\n",
      "\n",
      "Remember: Your answer will be passed directly to JSON parsing function, therefore return only the array of json and not include PREFIX, SUFFIX or Prologue\n"
     ]
    }
   ],
   "source": [
    "from pocketflow import AsyncFlow, AsyncNode\n",
    "from typing import TypedDict\n",
    "import asyncio\n",
    "from pocketflow_a2a.a2a_client.prompt_templates import available_agents_template\n",
    "\n",
    "\n",
    "class Shared(TypedDict):\n",
    "    a2a_clients: list[A2AClient]\n",
    "    agents_list: list[AgentCard]\n",
    "    available_agents_prompt: str\n",
    "\n",
    "\n",
    "class GetAvailableAgents(AsyncNode):\n",
    "    async def prep_async(self, shared):\n",
    "        a2a_clients = shared[\"a2a_clients\"]\n",
    "        return a2a_clients\n",
    "\n",
    "    async def exec_async(self, a2a_clients: list[A2AClient]):\n",
    "        return await asyncio.gather(\n",
    "            *[a2a_client.get_agent_card() for a2a_client in a2a_clients]\n",
    "        )\n",
    "\n",
    "    async def exec_fallback_async(self, prep_res, exc):\n",
    "        raise exc\n",
    "\n",
    "    async def post_async(\n",
    "        self,\n",
    "        shared,\n",
    "        prep_res,\n",
    "        exec_res: list[AgentCard | A2AClientJSONError | A2AClientHTTPError],\n",
    "    ) -> str:\n",
    "        agents_list = [res for res in exec_res if isinstance(res, AgentCard)]\n",
    "        if not agents_list:\n",
    "            shared[\"agents_list\"] = []\n",
    "            shared[\"available_agents_prompt\"] = None\n",
    "        else:\n",
    "            shared[\"agents_list\"] = agents_list\n",
    "            shared[\"available_agents_prompt\"] = available_agents_template.render(\n",
    "                agents=[agent.model_dump() for agent in agents_list]\n",
    "            )\n",
    "        return \"agent_selector\"\n",
    "\n",
    "\n",
    "get_available_agents_node = GetAvailableAgents()\n",
    "\n",
    "flow = AsyncFlow(start=get_available_agents_node)\n",
    "shared = {\"a2a_clients\": [A2AClient(url=\"http://localhost:10003\")]}\n",
    "await flow.run_async(shared)\n",
    "print(shared[\"available_agents_prompt\"])"
   ]
  },
  {
   "cell_type": "code",
   "execution_count": 27,
   "metadata": {},
   "outputs": [
    {
     "name": "stdout",
     "output_type": "stream",
     "text": [
      "You are a user's question screener. Your duty is to select the agents that proper to answer user's question.\n",
      "\n",
      "The question: How is Thai stock market this week?\n",
      "\n",
      "These are agents who can you ask for consult:\n",
      "\n",
      "Available agents:\n",
      "\n",
      "Agent number 1:\n",
      "Name: PocketFlow Research Agent (A2A Wrapped)\n",
      "Description: A simple research agent based on PocketFlow, made accessible via A2A.\n",
      "Skills: \n",
      "    - name: Web Research and Answering\n",
      "    - description: Answers questions using web search results when necessary.\n",
      "    - example: ['Who won the Nobel Prize in Physics 2024?', 'What is quantum computing?', 'Summarize the latest news about AI.']\n",
      "\n",
      "--------------------------------\n",
      "\n",
      "\n",
      "You may select one of them to help answer by return the array of selected agent number or if you find no one could help you, you may return empty array.\n",
      "Your answer will be passed directly to JSON so You must return your selected agent(s) with the following JSON fiedls\n",
      "[\n",
      "    {\n",
      "        \"selected_agent: <int, the number of agent that you choose to answer this question>,\n",
      "        \"question_to_answer\": <str, the question to ask the agent>\n",
      "    },\n",
      "    {/*...other agent you can select as much as you want*/}\n",
      "]\n",
      "\n",
      "Remember: Your answer will be passed directly to JSON parsing function, therefore return only the array of json and not include PREFIX, SUFFIX or Prologue\n",
      "```json\n",
      "[\n",
      "  {\n",
      "    \"selected_agent\": 1,\n",
      "    \"question_to_answer\": \"How is the Thai stock market performing this week?  Please provide a summary of its performance.\"\n",
      "  }\n",
      "]\n",
      "```\n",
      "\n",
      "[{'selected_agent': 1, 'question_to_answer': 'How is the Thai stock market performing this week?  Please provide a summary of its performance.'}]\n"
     ]
    }
   ],
   "source": [
    "from pocketflow_a2a.a2a_common.utils.toolbox import call_llm\n",
    "from pocketflow_a2a.a2a_client.prompt_templates import agent_selector_template\n",
    "\n",
    "import json\n",
    "import re\n",
    "\n",
    "def parse_json_string(s: str) -> dict:\n",
    "    \"\"\"\n",
    "    Parse a string containing JSON (optionally wrapped in markdown code block) into a Python dictionary.\n",
    "    \"\"\"\n",
    "    # Remove leading/trailing whitespace\n",
    "    s = s.strip()\n",
    "    # Remove markdown code block if present\n",
    "    # Handles ```json ... ``` or ``` ... ```\n",
    "    code_block_pattern = r\"^```(?:json)?\\s*([\\s\\S]*?)\\s*```$\"\n",
    "    match = re.match(code_block_pattern, s, re.IGNORECASE)\n",
    "    if match:\n",
    "        s = match.group(1).strip()\n",
    "    # Now parse as JSON\n",
    "    return json.loads(s)\n",
    "\n",
    "\n",
    "class AgentSelector(AsyncNode):\n",
    "    \n",
    "    async def prep_async(self, shared):\n",
    "        return (shared[\"question\"], shared[\"available_agents_prompt\"])\n",
    "\n",
    "    async def exec_async(self, inputs):\n",
    "        question, available_agents_prompt = inputs\n",
    "        prompt = agent_selector_template.render(\n",
    "            question=question, available_agents_prompt=available_agents_prompt\n",
    "        )\n",
    "        print(prompt)\n",
    "        return call_llm(prompt)\n",
    "\n",
    "    async def post_async(self, shared, prep_res, exec_res):\n",
    "        print(exec_res)\n",
    "        shared[\"selected_agent\"] = parse_json_string(exec_res)\n",
    "\n",
    "\n",
    "get_available_agents_node = GetAvailableAgents()\n",
    "agent_selector_node = AgentSelector()\n",
    "\n",
    "get_available_agents_node - \"agent_selector\" >> agent_selector_node\n",
    "\n",
    "flow = AsyncFlow(start=get_available_agents_node)\n",
    "\n",
    "shared = {\n",
    "    \"question\": \"How is Thai stock market this week?\",\n",
    "    \"a2a_clients\": [A2AClient(url=\"http://localhost:10003\")]\n",
    "}\n",
    "await flow.run_async(shared)\n",
    "\n",
    "print(shared[\"selected_agent\"])\n"
   ]
  },
  {
   "cell_type": "code",
   "execution_count": 34,
   "metadata": {},
   "outputs": [
    {
     "name": "stdout",
     "output_type": "stream",
     "text": [
      "0\n"
     ]
    }
   ],
   "source": [
    "print(shared[\"selected_agent\"][0][\"selected_agent\"] - 1)"
   ]
  },
  {
   "cell_type": "code",
   "execution_count": 35,
   "metadata": {},
   "outputs": [
    {
     "data": {
      "text/plain": [
       "AgentCard(name='PocketFlow Research Agent (A2A Wrapped)', description='A simple research agent based on PocketFlow, made accessible via A2A.', url='http://localhost:10003/', provider=None, version='0.1.0-a2a', documentationUrl=None, capabilities=AgentCapabilities(streaming=False, pushNotifications=False, stateTransitionHistory=False), authentication=None, defaultInputModes=['text', 'text/plain'], defaultOutputModes=['text', 'text/plain'], skills=[AgentSkill(id='web_research_qa', name='Web Research and Answering', description='Answers questions using web search results when necessary.', tags=['research', 'qa', 'web search'], examples=['Who won the Nobel Prize in Physics 2024?', 'What is quantum computing?', 'Summarize the latest news about AI.'], inputModes=['text', 'text/plain'], outputModes=['text', 'text/plain'])])"
      ]
     },
     "execution_count": 35,
     "metadata": {},
     "output_type": "execute_result"
    }
   ],
   "source": [
    "shared[\"agents_list\"][shared[\"selected_agent\"][0][\"selected_agent\"] - 1]"
   ]
  },
  {
   "cell_type": "code",
   "execution_count": null,
   "metadata": {},
   "outputs": [
    {
     "data": {
      "text/plain": [
       "'```json\\n[]\\n```\\n'"
      ]
     },
     "execution_count": 21,
     "metadata": {},
     "output_type": "execute_result"
    }
   ],
   "source": [
    "import json"
   ]
  },
  {
   "cell_type": "code",
   "execution_count": null,
   "metadata": {},
   "outputs": [
    {
     "name": "stdout",
     "output_type": "stream",
     "text": [
      "You are a user's question screener. Your duty is to select the agents that proper to answer user's question.\n",
      "\n",
      "The question: How is Thai stock market this week?\n",
      "\n",
      "These are agents who can you ask for consult:\n",
      "\n",
      "Available agents:\n",
      "\n",
      "Agent number 1:\n",
      "Name: PocketFlow Research Agent (A2A Wrapped)\n",
      "Description: A simple research agent based on PocketFlow, made accessible via A2A.\n",
      "--------------------------------\n",
      "\n",
      "\n",
      "You may select one of them to help answer by return the array of selected agent number or if you find no one could help you, you may return empty array.\n",
      "Your answer will be passed directly to JSON so You must return your selected agent(s) with the following JSON fiedls\n",
      "[\n",
      "    {\n",
      "        \"selected_agent: <int, the number of agent that you choose to answer this question>,\n",
      "        \"question_to_answer\": <str, the question to ask the agent>\n",
      "    },\n",
      "    {/*...other agent you can select as much as you want*/}\n",
      "]\n",
      "\n",
      "Remember: Your answer will be passed directly to JSON parsing function, therefore return only the array of json and not include PREFIX, SUFFIX or Prologue\n"
     ]
    }
   ],
   "source": [
    "print(\n",
    "    agent_selector_template.render(\n",
    "        question=\"How is Thai stock market this week?\",\n",
    "        available_agents_prompt=shared[\"available_agents_prompt\"],\n",
    "    )\n",
    ")"
   ]
  },
  {
   "cell_type": "code",
   "execution_count": 11,
   "metadata": {},
   "outputs": [
    {
     "data": {
      "text/plain": [
       "'These are agents who can you ask for consult:\\n\\nAvailable agents:\\n\\nAgent number 1:\\nName: PocketFlow Research Agent (A2A Wrapped)\\nDescription: A simple research agent based on PocketFlow, made accessible via A2A.\\n--------------------------------\\n\\n\\nYou may select one of them to help answer by return the array of selected agent number or if you find no one could help you, you may return empty array.\\nYour answer will be passed directly to JSON so You must return your selected agent(s) with the following JSON fiedls\\n[\\n    {\\n        \"selected_agent: <int, the number of agent that you choose to answer this question>,\\n        \"question_to_answer\": <str, the question to ask the agent>\\n    },\\n    {/*...other agent you can select as much as you want*/}\\n]\\n\\nRemember: Your answer will be passed directly to JSON parsing function, therefore return only the array of json and not include PREFIX, SUFFIX or Prologue'"
      ]
     },
     "execution_count": 11,
     "metadata": {},
     "output_type": "execute_result"
    }
   ],
   "source": [
    "shared[\"available_agents_prompt\"]"
   ]
  },
  {
   "cell_type": "code",
   "execution_count": 35,
   "metadata": {},
   "outputs": [
    {
     "name": "stdout",
     "output_type": "stream",
     "text": [
      "\n",
      "Grocery List:\n",
      "\n",
      "- Milk (2 liters)\n",
      "\n",
      "- Eggs (12 pcs)\n",
      "\n",
      "- Bread (1 loaf)\n",
      "\n"
     ]
    }
   ],
   "source": [
    "from jinja2 import Template\n",
    "\n",
    "# Main template string\n",
    "main_template = \"\"\"\n",
    "Grocery List:\n",
    "{% for item in items %}\n",
    "- {% include 'line_template' %}\n",
    "{% endfor %}\n",
    "\"\"\"\n",
    "\n",
    "# Sub-template string\n",
    "line_template = \"{{ item.name }} ({{ item.qty }})\"\n",
    "\n",
    "# Create a Jinja2 environment and manually load sub-templates\n",
    "from jinja2 import DictLoader, Environment\n",
    "\n",
    "# Setup with in-memory templates\n",
    "env = Environment(\n",
    "    loader=DictLoader({\"main_template\": main_template, \"line_template\": line_template})\n",
    ")\n",
    "\n",
    "# Load and render\n",
    "template = env.get_template(\"main_template\")\n",
    "\n",
    "# Sample data\n",
    "items = [\n",
    "    {\"name\": \"Milk\", \"qty\": \"2 liters\"},\n",
    "    {\"name\": \"Eggs\", \"qty\": \"12 pcs\"},\n",
    "    {\"name\": \"Bread\", \"qty\": \"1 loaf\"},\n",
    "]\n",
    "\n",
    "# Render\n",
    "output = template.render(items=items)\n",
    "print(output)\n"
   ]
  }
 ],
 "metadata": {
  "kernelspec": {
   "display_name": ".venv",
   "language": "python",
   "name": "python3"
  },
  "language_info": {
   "codemirror_mode": {
    "name": "ipython",
    "version": 3
   },
   "file_extension": ".py",
   "mimetype": "text/x-python",
   "name": "python",
   "nbconvert_exporter": "python",
   "pygments_lexer": "ipython3",
   "version": "3.11.11"
  }
 },
 "nbformat": 4,
 "nbformat_minor": 2
}
